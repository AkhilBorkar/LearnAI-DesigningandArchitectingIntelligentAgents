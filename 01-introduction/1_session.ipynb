{
 "cells": [
  {
   "cell_type": "markdown",
   "metadata": {
    "collapsed": true,
    "slideshow": {
     "slide_type": "slide"
    }
   },
   "source": [
    "# Designing and Architecting Intelligent Agents"
   ]
  },
  {
   "cell_type": "markdown",
   "metadata": {
    "slideshow": {
     "slide_type": "slide"
    }
   },
   "source": [
    "## Introduction\n",
    "* Welcome!\n",
    "* About the course\n",
    "* Agenda"
   ]
  },
  {
   "cell_type": "markdown",
   "metadata": {
    "slideshow": {
     "slide_type": "slide"
    }
   },
   "source": [
    "## Welcome\n",
    "\n",
    "Welcome to the one day course \"Designing and Architecting Intelligent Agents.\" \n",
    "The goal of this course is to enable you to architect intelligent bot solutions. We will do this with technical, deep, discussion-based sessions and activities that help you advance your skills for architecting and designing intelligent bots with natural language understanding, search capabilities, and more. This course is not \"Getting Started with...\" the various services and assume a 100-200-level familiarity with the products prior to getting started.\n",
    "\n",
    "Each session should be beneficial in relative isolation, so as long as **appropriate pre-requisites are met**, an individual should be able to complete a given session without needing to complete the others."
   ]
  },
  {
   "cell_type": "markdown",
   "metadata": {
    "slideshow": {
     "slide_type": "slide"
    }
   },
   "source": [
    "# About the course\n",
    "\n",
    "This highly interactive 1-day course covers how to deal with complexities during bot design, specifically with regards to natural language understanding (NLU), architectures, and intelligence. You will participate in deep dive discussions and cases around the principles of good bot design and LUIS schema design. You will also become familiar with the recommended reference architectures and customer case studies from the Product Group, and you'll learn when and how to use and integrate various Cognitive Services to make bots smarter."
   ]
  },
  {
   "cell_type": "markdown",
   "metadata": {
    "slideshow": {
     "slide_type": "slide"
    }
   },
   "source": [
    "## Audience  \n",
    "This 300 level course is intended for architects and developers creating applications, specifically chatbots, on Azure."
   ]
  },
  {
   "cell_type": "markdown",
   "metadata": {
    "slideshow": {
     "slide_type": "slide"
    }
   },
   "source": [
    "## Technologies  \n",
    "Many Azure technologies will be referenced, but we will focus on Azure Bot Services/Microsoft Bot Framework, LUIS, and Cognitive Services."
   ]
  },
  {
   "cell_type": "markdown",
   "metadata": {
    "slideshow": {
     "slide_type": "slide"
    }
   },
   "source": [
    "## Learning Objectives  \n",
    "After completing this course, you should have the ability to:  \n",
    "* Understand the basic principles of good bot design\n",
    "* Be able to efficiently and effectively design LUIS schema, especially with regards to well-established scenarios\n",
    "* Be able to decide the most appropriate architectural components for several common bot use-cases\n",
    "* For Cognitive Services, determine when to use what and how to combine multiple to increase the intelligence and capabilities of bots \n",
    "* Be able to use the prior four learning objectives to design and architect intelligent bot solutions  "
   ]
  },
  {
   "cell_type": "markdown",
   "metadata": {
    "slideshow": {
     "slide_type": "slide"
    }
   },
   "source": [
    "## Prerequisites\n",
    "\n",
    "This course requires that you meet the following prerequisites:  \n",
    "* Experience and expertise architecting solutions or building applications on Azure and with Microsoft's AI Stack\n",
    "* Experience with LUIS\n",
    "* Familiarity with Azure Bot Services/Microsoft Bot Framework\n",
    "* Understanding of the various Cognitive Services and Capabilities  \n",
    "\n",
    ">Note: This is a technical, deep, discussion-based course, but there will not be hands-on-the-keyboard labs. We will point to other resources for further implementation learning"
   ]
  },
  {
   "cell_type": "markdown",
   "metadata": {
    "slideshow": {
     "slide_type": "slide"
    }
   },
   "source": [
    "# Agenda\n",
    "\n",
    "Please note: This is a rough agenda, and the schedule is subject to change pending class activities and interaction.\n",
    "-   8-9: Sign in\n",
    "-   9-9:30: [1.1: Introduction to the course](./01-introduction/readme.md)\n",
    "-   9:30-10: [2.1: Bot Design Principles](./02-bot_design/readme.md)\n",
    "-   10-10:30: [2.2: Activity - Bot Design](./02-bot_design/2_activity.md)\n",
    "-   10:30-10:45: Break\n",
    "-   10:45-11:30: [3.1: LUIS Design Principles](./03-luis/readme.md)\n",
    "-   11:30-12: [3.2: Activity - LUIS Design](./03-luis/2_activity.md)"
   ]
  },
  {
   "cell_type": "markdown",
   "metadata": {
    "slideshow": {
     "slide_type": "slide"
    }
   },
   "source": [
    "-   12-1: Lunch\n",
    "-   1-1:30: [4.1: Reference Architectures and Common Patterns](./04-architectures/readme.md)\n",
    "-   1:30-2: [4.2: Activity - Architectures](./04-architectures/2_activity.md)\n",
    "-   2-2:15: Break\n",
    "-   2:15-2:45: [5.1 - Integration with Cognitive Services](./05-cognitive_services/readme.md)\n",
    "-   2:45-3:15: [5.2: Activity - Cognitive Services](./05-cognitive_services/2_activity.md)\n",
    "-   3:15-3:30: Break\n",
    "-   3:30-4:30: [6.1: Final Case](./06-final_case/readme.md)\n",
    "-   4:30-5: Q&A and Feedback"
   ]
  }
 ],
 "metadata": {
  "celltoolbar": "Slideshow",
  "kernelspec": {
   "display_name": "Python 3.6",
   "language": "python",
   "name": "python36"
  },
  "language_info": {
   "codemirror_mode": {
    "name": "ipython",
    "version": 3
   },
   "file_extension": ".py",
   "mimetype": "text/x-python",
   "name": "python",
   "nbconvert_exporter": "python",
   "pygments_lexer": "ipython3",
   "version": "3.6.3"
  }
 },
 "nbformat": 4,
 "nbformat_minor": 2
}
